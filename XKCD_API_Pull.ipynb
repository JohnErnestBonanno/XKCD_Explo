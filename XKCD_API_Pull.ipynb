{
 "cells": [
  {
   "cell_type": "code",
   "execution_count": 1,
   "metadata": {},
   "outputs": [],
   "source": [
    "import requests\n",
    "import json\n",
    "import pandas as pd\n",
    "import time"
   ]
  },
  {
   "cell_type": "code",
   "execution_count": 2,
   "metadata": {},
   "outputs": [],
   "source": [
    "request_data = requests.get('http://xkcd.com/info.0.json')"
   ]
  },
  {
   "cell_type": "code",
   "execution_count": 3,
   "metadata": {},
   "outputs": [
    {
     "data": {
      "text/plain": [
       "200"
      ]
     },
     "execution_count": 3,
     "metadata": {},
     "output_type": "execute_result"
    }
   ],
   "source": [
    "request_data.status_code"
   ]
  },
  {
   "cell_type": "code",
   "execution_count": 4,
   "metadata": {},
   "outputs": [
    {
     "data": {
      "text/plain": [
       "b'{\"month\": \"8\", \"num\": 2188, \"link\": \"\", \"year\": \"2019\", \"news\": \"\", \"safe_title\": \"E Scooters\", \"transcript\": \"\", \"alt\": \"Obviously battery technology and prices have driven a lot of the scooter explosion, but I feel like Dean Kamen must be at least a little grumpy about how much people laughed at the idea of the Segway.\", \"img\": \"https://imgs.xkcd.com/comics/e_scooters.png\", \"title\": \"E Scooters\", \"day\": \"12\"}'"
      ]
     },
     "execution_count": 4,
     "metadata": {},
     "output_type": "execute_result"
    }
   ],
   "source": [
    "request_data.content"
   ]
  },
  {
   "cell_type": "code",
   "execution_count": 5,
   "metadata": {},
   "outputs": [],
   "source": [
    "data = json.loads(request_data.content)"
   ]
  },
  {
   "cell_type": "code",
   "execution_count": 6,
   "metadata": {},
   "outputs": [
    {
     "data": {
      "text/plain": [
       "2188"
      ]
     },
     "execution_count": 6,
     "metadata": {},
     "output_type": "execute_result"
    }
   ],
   "source": [
    "data['num']"
   ]
  },
  {
   "cell_type": "code",
   "execution_count": 7,
   "metadata": {
    "collapsed": true
   },
   "outputs": [],
   "source": [
    "loop_upper_limit = data['num']"
   ]
  },
  {
   "cell_type": "code",
   "execution_count": 8,
   "metadata": {},
   "outputs": [
    {
     "name": "stdout",
     "output_type": "stream",
     "text": [
      "100\n",
      "time taken this 100 loops:  0.11913840000000064\n",
      "200\n",
      "time taken this 100 loops:  0.11374980000000079\n",
      "300\n",
      "time taken this 100 loops:  0.140369800000002\n",
      "400\n",
      "time taken this 100 loops:  0.24362990000000195\n",
      "500\n",
      "time taken this 100 loops:  0.17727740000000836\n",
      "600\n",
      "time taken this 100 loops:  0.13113100000001054\n",
      "700\n",
      "time taken this 100 loops:  0.17097939999999312\n",
      "800\n",
      "time taken this 100 loops:  0.12097479999999905\n"
     ]
    },
    {
     "name": "stderr",
     "output_type": "stream",
     "text": [
      "C:\\Users\\jbonanno\\Anaconda3\\lib\\site-packages\\pandas\\core\\frame.py:7116: FutureWarning: Sorting because non-concatenation axis is not aligned. A future version\n",
      "of pandas will change to not sort by default.\n",
      "\n",
      "To accept the future behavior, pass 'sort=False'.\n",
      "\n",
      "To retain the current behavior and silence the warning, pass 'sort=True'.\n",
      "\n",
      "  sort=sort,\n"
     ]
    },
    {
     "name": "stdout",
     "output_type": "stream",
     "text": [
      "900\n",
      "time taken this 100 loops:  0.1277752000000021\n",
      "1000\n",
      "time taken this 100 loops:  0.11842079999999555\n",
      "1100\n",
      "time taken this 100 loops:  0.12063679999999977\n",
      "1200\n",
      "time taken this 100 loops:  0.13875039999999217\n",
      "1300\n",
      "time taken this 100 loops:  0.2405569000000014\n",
      "1400\n",
      "time taken this 100 loops:  0.12244689999999991\n",
      "1500\n",
      "time taken this 100 loops:  0.13990959999995312\n",
      "1600\n",
      "time taken this 100 loops:  0.13307600000001685\n",
      "1700\n",
      "time taken this 100 loops:  0.11916450000001078\n",
      "1800\n",
      "time taken this 100 loops:  0.13320360000000164\n",
      "1900\n",
      "time taken this 100 loops:  0.13479990000001862\n",
      "2000\n",
      "time taken this 100 loops:  0.13840279999999439\n",
      "2100\n",
      "time taken this 100 loops:  0.14645669999998745\n"
     ]
    }
   ],
   "source": [
    "# {} act as placements for futue strings\n",
    "df = pd.DataFrame()\n",
    "url = 'http://xkcd.com/{}/info.0.json'\n",
    "\n",
    "for i in range(1,loop_upper_limit):\n",
    "    if i % 404 == 0: #actually really funny joke that #comic 404 doesn't return anything\n",
    "        i = i+1\n",
    "    else:    \n",
    "        start_time = time.clock()\n",
    "        response = requests.get(url.format(i))\n",
    "        status = response.status_code\n",
    "        if status != 200:\n",
    "            print(f'Error. Improper Status Code. Code is {status}. Problem with comic {i}')\n",
    "            break\n",
    "        else:\n",
    "            response = requests.get(url.format(i))\n",
    "            data = json.loads(response.content)\n",
    "            df_temp = pd.DataFrame(data, index = [0])\n",
    "            df = df.append(df_temp)\n",
    "            if i % 100 == 0:\n",
    "                print(i)\n",
    "                loop_time = time.clock()\n",
    "                print(f'time taken this 100 loops: ', loop_time - start_time)"
   ]
  },
  {
   "cell_type": "code",
   "execution_count": 10,
   "metadata": {},
   "outputs": [
    {
     "data": {
      "text/plain": [
       "(2182, 12)"
      ]
     },
     "execution_count": 10,
     "metadata": {},
     "output_type": "execute_result"
    }
   ],
   "source": [
    "df.shape"
   ]
  },
  {
   "cell_type": "code",
   "execution_count": 15,
   "metadata": {},
   "outputs": [],
   "source": [
    "df.to_csv('XKCD_df.csv')"
   ]
  }
 ],
 "metadata": {
  "kernelspec": {
   "display_name": "Python 3",
   "language": "python",
   "name": "python3"
  },
  "language_info": {
   "codemirror_mode": {
    "name": "ipython",
    "version": 3
   },
   "file_extension": ".py",
   "mimetype": "text/x-python",
   "name": "python",
   "nbconvert_exporter": "python",
   "pygments_lexer": "ipython3",
   "version": "3.6.3"
  }
 },
 "nbformat": 4,
 "nbformat_minor": 2
}
